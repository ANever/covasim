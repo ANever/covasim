{
 "cells": [
  {
   "cell_type": "markdown",
   "metadata": {},
   "source": [
    "# T9 - Advanced features\n",
    "\n",
    "This tutorial covers advanced features of Covasim, including custom population options and changing the internal computational methods.\n",
    "\n",
    "## Defining populations with SynthPops\n",
    "\n",
    "For complex populations, we suggest using [SynthPops](http://synthpops.org), a Python library designed specifically for this purpose. In contrast the population methods built-in to Covasim, SynthPops uses data to produce synthetic populations that are statistically indistinguishable from real ones. For a relaively complex example of how SynthPops was used to create a complex school network for the Seattle region, see [here](https://github.com/institutefordiseasemodeling/testing-the-waters/blob/main/covasim_schools/school_pop.py).\n",
    "\n",
    "## Defining contact layers\n",
    "\n",
    "Contact layers are the graph connecting the people in the simulation. Each person is a node, and each contact is an edge. While enormous complexity can be used to define realistic contact networks, a reasonable approximation in many cases is random connectivity, often with some age assortativity. Here is an example for generating a new contact layer, nominally representing public transportation, and adding it to a simulation:"
   ]
  },
  {
   "cell_type": "code",
   "execution_count": null,
   "metadata": {},
   "outputs": [],
   "source": [
    "import numpy as np\n",
    "import covasim as cv\n",
    "cv.options.set(dpi=100, show=False, verbose=0)\n",
    "\n",
    "# Create the first sim\n",
    "orig_sim = cv.Sim(pop_type='hybrid', n_days=120, label='Default hybrid population')\n",
    "orig_sim.initialize() # Initialize the population\n",
    "\n",
    "# Create the second sim\n",
    "sim = orig_sim.copy()\n",
    "\n",
    "# Define the new layer, 'transport'\n",
    "n_people = len(sim.people)\n",
    "n_contacts_per_person = 0.5\n",
    "n_contacts = int(n_contacts_per_person*n_people)\n",
    "contacts_p1 = cv.choose(max_n=n_people, n=n_contacts)\n",
    "contacts_p2 = cv.choose(max_n=n_people, n=n_contacts)\n",
    "beta = np.ones(n_contacts)\n",
    "layer = cv.Layer(p1=contacts_p1, p2=contacts_p2, beta=beta) # Create the new layer\n",
    "\n",
    "# Add this layer in and re-initialize the sim\n",
    "sim.people.contacts.add_layer(transport=layer)\n",
    "sim.reset_layer_pars() # Automatically add layer 'q' to the parameters using default values\n",
    "sim.initialize() # Reinitialize\n",
    "sim.label = f'Transport layer with {n_contacts_per_person} contacts/person'\n",
    "\n",
    "# Run and compare\n",
    "msim = cv.MultiSim([orig_sim, sim])\n",
    "msim.run()\n",
    "msim.plot()"
   ]
  },
  {
   "cell_type": "markdown",
   "metadata": {},
   "source": [
    "## Defining custom population properties\n",
    "\n",
    "## Changing Numba options"
   ]
  }
 ],
 "metadata": {
  "kernelspec": {
   "display_name": "Python 3",
   "language": "python",
   "name": "python3"
  },
  "language_info": {
   "codemirror_mode": {
    "name": "ipython",
    "version": 3
   },
   "file_extension": ".py",
   "mimetype": "text/x-python",
   "name": "python",
   "nbconvert_exporter": "python",
   "pygments_lexer": "ipython3",
   "version": "3.8.5"
  },
  "pycharm": {
   "stem_cell": {
    "cell_type": "raw",
    "metadata": {
     "collapsed": false
    },
    "source": []
   }
  },
  "toc": {
   "base_numbering": 1,
   "nav_menu": {},
   "number_sections": true,
   "sideBar": true,
   "skip_h1_title": false,
   "title_cell": "Table of Contents",
   "title_sidebar": "Contents",
   "toc_cell": false,
   "toc_position": {},
   "toc_section_display": true,
   "toc_window_display": false
  }
 },
 "nbformat": 4,
 "nbformat_minor": 4
}
