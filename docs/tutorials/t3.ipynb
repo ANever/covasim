{
 "cells": [
  {
   "cell_type": "markdown",
   "metadata": {},
   "source": [
    "# T3 - Running scenarios\n",
    "\n",
    "While running individual sims can be interesting for simple explorations, at some point it will almost always be necessary to run a large number of simulations simultaneously -- to explore different scenarios, to perform calibration, or simply to get uncertainty bounds on a single projection. This tutorial explains how to do that."
   ]
  },
  {
   "cell_type": "markdown",
   "metadata": {},
   "source": [
    "## Running with MultiSims\n",
    "\n",
    "The "
   ]
  },
  {
   "cell_type": "code",
   "execution_count": null,
   "metadata": {},
   "outputs": [],
   "source": [
    "import sciris as sc\n",
    "import covasim as cv\n",
    "\n",
    "def myfunc(x):\n",
    "    sc.tic()\n",
    "    a = 0.0\n",
    "    for i in range(int(1e7)):\n",
    "        a += float(x)*1e-8\n",
    "    sc.toc()\n",
    "    sim = cv.Sim()\n",
    "    sim.run()\n",
    "    return a**2\n",
    "\n",
    "output = sc.parallelize(myfunc, range(10))\n",
    "print(output)"
   ]
  },
  {
   "cell_type": "code",
   "execution_count": null,
   "metadata": {},
   "outputs": [],
   "source": [
    "import sciris as sc\n",
    "import covasim as cv\n",
    "\n",
    "def myfunc(x):\n",
    "    sc.tic()\n",
    "    a = x\n",
    "    for i in range(int(1)):\n",
    "        a += float(x)*1e-8\n",
    "    sc.toc()\n",
    "    sim = cv.Sim(pop_size=100e3)\n",
    "    sim.run()\n",
    "    return #a**2\n",
    "\n",
    "output = sc.parallelize(myfunc, range(4))\n",
    "print(output)"
   ]
  },
  {
   "cell_type": "code",
   "execution_count": null,
   "metadata": {},
   "outputs": [],
   "source": [
    "import covasim as cv\n",
    "import sciris as sc\n",
    "\n",
    "def run_sim(label):\n",
    "    sim = cv.Sim(label=str(label))\n",
    "    sim.run()\n",
    "    return sim\n",
    "\n",
    "sim = sc.parallelize(run_sim, range(3))"
   ]
  },
  {
   "cell_type": "code",
   "execution_count": null,
   "metadata": {},
   "outputs": [],
   "source": [
    "import covasim as cv\n",
    "\n",
    "s1 = cv.Sim()\n",
    "s2 = cv.Sim()\n",
    "msim = cv.MultiSim([s1, s2]*4)\n",
    "msim.run()"
   ]
  },
  {
   "cell_type": "markdown",
   "metadata": {},
   "source": [
    "## Running with Scenarios\n",
    "\n",
    "TBC"
   ]
  }
 ],
 "metadata": {
  "kernelspec": {
   "display_name": "Python 3",
   "language": "python",
   "name": "python3"
  },
  "language_info": {
   "codemirror_mode": {
    "name": "ipython",
    "version": 3
   },
   "file_extension": ".py",
   "mimetype": "text/x-python",
   "name": "python",
   "nbconvert_exporter": "python",
   "pygments_lexer": "ipython3",
   "version": "3.8.5"
  },
  "pycharm": {
   "stem_cell": {
    "cell_type": "raw",
    "metadata": {
     "collapsed": false
    },
    "source": []
   }
  },
  "toc": {
   "base_numbering": 1,
   "nav_menu": {},
   "number_sections": true,
   "sideBar": true,
   "skip_h1_title": false,
   "title_cell": "Table of Contents",
   "title_sidebar": "Contents",
   "toc_cell": false,
   "toc_position": {},
   "toc_section_display": true,
   "toc_window_display": false
  }
 },
 "nbformat": 4,
 "nbformat_minor": 4
}
