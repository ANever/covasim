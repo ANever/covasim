{
 "cells": [
  {
   "cell_type": "markdown",
   "metadata": {},
   "source": [
    "# T1 - Getting started\n",
    "\n",
    "Installing and getting started with Covasim is quite simple. \n",
    "\n",
    "To install, just type `pip install covasim`. If it worked, you should be able to import Covasim with `import covasim as cv`.\n",
    "\n",
    "The basic design philosphy of Covasim is: *common tasks should be simple*. For example:\n",
    "\n",
    "- Defining parameters\n",
    "- Running a simulation\n",
    "- Plotting results\n",
    "\n",
    "This tutorial walks you through how to do these things."
   ]
  },
  {
   "cell_type": "markdown",
   "metadata": {},
   "source": [
    "## Defining parameters\n",
    "\n",
    "Parameters are defined as a dictionary. The most common parameters to modify are the population size, the initial number of people infected, and the start and end dates of the simulation. We can define those as:"
   ]
  },
  {
   "cell_type": "code",
   "execution_count": null,
   "metadata": {},
   "outputs": [],
   "source": [
    "pars = dict(\n",
    "    pop_size = 50e3,\n",
    "    pop_infected = 100,\n",
    "    start_day = '2020-04-01',\n",
    "    end_day = '2020-06-01',\n",
    ")"
   ]
  },
  {
   "cell_type": "markdown",
   "metadata": {},
   "source": [
    "## Running a simulation\n",
    "\n",
    "Running a simulation is pretty easy. In fact, it's just"
   ]
  },
  {
   "cell_type": "code",
   "execution_count": null,
   "metadata": {},
   "outputs": [],
   "source": [
    "import covasim as cv\n",
    "\n",
    "sim = cv.Sim(pars)\n",
    "sim.run()"
   ]
  },
  {
   "cell_type": "markdown",
   "metadata": {},
   "source": [
    "This will generate a results dictionary `sim.results`. For example, the number of new infections per day is `sim.results['new_infections']`."
   ]
  },
  {
   "cell_type": "markdown",
   "metadata": {},
   "source": [
    "## Plotting results\n",
    "\n",
    "Plotting the results of a simulation is rather easy too:"
   ]
  },
  {
   "cell_type": "code",
   "execution_count": null,
   "metadata": {},
   "outputs": [],
   "source": [
    "fig = sim.plot()"
   ]
  },
  {
   "cell_type": "markdown",
   "metadata": {},
   "source": [
    "## Full usage example\n",
    "\n",
    "The details of this example will be explained in later tutorials, but to give you a taste, here's an example of how you would run two simulations to determine the impact of a custom intervention aimed at protecting the elderly."
   ]
  },
  {
   "cell_type": "code",
   "execution_count": null,
   "metadata": {},
   "outputs": [],
   "source": [
    "import covasim as cv\n",
    "\n",
    "def protect_elderly(sim):\n",
    "    if sim.t == sim.day('2020-04-01'):\n",
    "        elderly = sim.people.age>70\n",
    "        sim.people.rel_sus[elderly] = 0.0\n",
    "\n",
    "pars = dict(\n",
    "    pop_size = 50e3,\n",
    "    pop_infected = 100,\n",
    "    n_days = 90,\n",
    "    verbose = 0,\n",
    ")\n",
    "\n",
    "s1 = cv.Sim(pars, label='Default')\n",
    "s2 = cv.Sim(pars, interventions=protect_elderly, label='Protect the elderly')\n",
    "msim = cv.MultiSim([s1, s2])\n",
    "msim.run(parallel=False) # NB, Jupyter notebooks can't run in parallel by default\n",
    "fig = msim.plot(to_plot=['cum_deaths', 'cum_infections'])"
   ]
  }
 ],
 "metadata": {
  "kernelspec": {
   "display_name": "Python 3",
   "language": "python",
   "name": "python3"
  },
  "language_info": {
   "codemirror_mode": {
    "name": "ipython",
    "version": 3
   },
   "file_extension": ".py",
   "mimetype": "text/x-python",
   "name": "python",
   "nbconvert_exporter": "python",
   "pygments_lexer": "ipython3",
   "version": "3.8.5"
  },
  "pycharm": {
   "stem_cell": {
    "cell_type": "raw",
    "metadata": {
     "collapsed": false
    },
    "source": []
   }
  },
  "toc": {
   "base_numbering": 1,
   "nav_menu": {},
   "number_sections": true,
   "sideBar": true,
   "skip_h1_title": false,
   "title_cell": "Table of Contents",
   "title_sidebar": "Contents",
   "toc_cell": false,
   "toc_position": {},
   "toc_section_display": true,
   "toc_window_display": false
  }
 },
 "nbformat": 4,
 "nbformat_minor": 4
}
