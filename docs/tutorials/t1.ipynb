{
 "cells": [
  {
   "cell_type": "markdown",
   "metadata": {},
   "source": [
    "# T1 - Installation and getting started\n",
    "\n",
    "Installing and getting started with Covasim is quite simple. To install, just type `pip install covasim`. If it worked, you should be able to import Covasim with `import covasim as cv`.\n",
    "\n",
    "The basic design philosphy of Covasim is: \"**Common tasks should be simple**\". For example:\n",
    "- Defining parameters\n",
    "- Running a simulation\n",
    "- Plotting results"
   ]
  },
  {
   "cell_type": "markdown",
   "metadata": {},
   "source": [
    "**Defining parameters**\n",
    "\n",
    "Parameters are defined as a dictionary. The most common parameters to modify are the population size, the initial number of people infected, and the start and end dates of the simulation. We can define those as:"
   ]
  },
  {
   "cell_type": "code",
   "execution_count": 4,
   "metadata": {},
   "outputs": [],
   "source": [
    "pars = dict(\n",
    "    pop_size = 50000,\n",
    "    pop_infected = 100,\n",
    "    start_day = '2020-04-01',\n",
    "    end_day = '2020-05-01'\n",
    ")"
   ]
  },
  {
   "cell_type": "markdown",
   "metadata": {},
   "source": [
    "**Running a simulation**\n",
    "\n",
    "Running a simulation is really easy. In fact, it's just"
   ]
  },
  {
   "cell_type": "code",
   "execution_count": 5,
   "metadata": {},
   "outputs": [
    {
     "name": "stdout",
     "output_type": "stream",
     "text": [
      "Initializing sim with 50000 people for 30 days\n",
      "  Running 2020-04-01 ( 0/30) (0.45 s)  ———————————————————— 3%\n",
      "  Running 2020-04-02 ( 1/30) (0.45 s)  •——————————————————— 6%\n",
      "  Running 2020-04-03 ( 2/30) (0.46 s)  •——————————————————— 10%\n",
      "  Running 2020-04-04 ( 3/30) (0.47 s)  ••—————————————————— 13%\n",
      "  Running 2020-04-05 ( 4/30) (0.47 s)  •••————————————————— 16%\n",
      "  Running 2020-04-06 ( 5/30) (0.48 s)  •••————————————————— 19%\n",
      "  Running 2020-04-07 ( 6/30) (0.48 s)  ••••———————————————— 23%\n",
      "  Running 2020-04-08 ( 7/30) (0.49 s)  •••••——————————————— 26%\n",
      "  Running 2020-04-09 ( 8/30) (0.50 s)  •••••——————————————— 29%\n",
      "  Running 2020-04-10 ( 9/30) (0.50 s)  ••••••—————————————— 32%\n",
      "  Running 2020-04-11 (10/30) (0.51 s)  •••••••————————————— 35%\n",
      "  Running 2020-04-12 (11/30) (0.51 s)  •••••••————————————— 39%\n",
      "  Running 2020-04-13 (12/30) (0.52 s)  ••••••••———————————— 42%\n",
      "  Running 2020-04-14 (13/30) (0.53 s)  •••••••••——————————— 45%\n",
      "  Running 2020-04-15 (14/30) (0.53 s)  •••••••••——————————— 48%\n",
      "  Running 2020-04-16 (15/30) (0.54 s)  ••••••••••—————————— 52%\n",
      "  Running 2020-04-17 (16/30) (0.54 s)  ••••••••••—————————— 55%\n",
      "  Running 2020-04-18 (17/30) (0.55 s)  •••••••••••————————— 58%\n",
      "  Running 2020-04-19 (18/30) (0.56 s)  ••••••••••••———————— 61%\n",
      "  Running 2020-04-20 (19/30) (0.56 s)  ••••••••••••———————— 65%\n",
      "  Running 2020-04-21 (20/30) (0.57 s)  •••••••••••••——————— 68%\n",
      "  Running 2020-04-22 (21/30) (0.57 s)  ••••••••••••••—————— 71%\n",
      "  Running 2020-04-23 (22/30) (0.58 s)  ••••••••••••••—————— 74%\n",
      "  Running 2020-04-24 (23/30) (0.59 s)  •••••••••••••••————— 77%\n",
      "  Running 2020-04-25 (24/30) (0.59 s)  ••••••••••••••••———— 81%\n",
      "  Running 2020-04-26 (25/30) (0.60 s)  ••••••••••••••••———— 84%\n",
      "  Running 2020-04-27 (26/30) (0.61 s)  •••••••••••••••••——— 87%\n",
      "  Running 2020-04-28 (27/30) (0.62 s)  ••••••••••••••••••—— 90%\n",
      "  Running 2020-04-29 (28/30) (0.62 s)  ••••••••••••••••••—— 94%\n",
      "  Running 2020-04-30 (29/30) (0.63 s)  •••••••••••••••••••— 97%\n",
      "  Running 2020-05-01 (30/30) (0.64 s)  •••••••••••••••••••• 100%\n",
      "\n",
      "Simulation summary:\n",
      "    4650 cumulative infections\n",
      "    2895 cumulative infectious\n",
      "       0 cumulative tests\n",
      "       0 cumulative diagnoses\n",
      "     979 cumulative recoveries\n",
      "    1736 cumulative symptomatic cases\n",
      "      74 cumulative severe cases\n",
      "      18 cumulative critical cases\n",
      "       2 cumulative deaths\n",
      "       0 cumulative quarantined people\n",
      "\n",
      "  Run finished after 0.64 s.\n",
      "\n"
     ]
    }
   ],
   "source": [
    "import covasim as cv\n",
    "\n",
    "sim = cv.Sim(pars)\n",
    "results = sim.run()"
   ]
  },
  {
   "cell_type": "markdown",
   "metadata": {},
   "source": [
    "**Plotting a simulation**\n",
    "\n",
    "Guess what? Plotting a simulation is easy too:"
   ]
  },
  {
   "cell_type": "markdown",
   "metadata": {},
   "source": [
    "And that's it."
   ]
  }
 ],
 "metadata": {
  "kernelspec": {
   "display_name": "Python 3",
   "language": "python",
   "name": "python3"
  },
  "language_info": {
   "codemirror_mode": {
    "name": "ipython",
    "version": 3
   },
   "file_extension": ".py",
   "mimetype": "text/x-python",
   "name": "python",
   "nbconvert_exporter": "python",
   "pygments_lexer": "ipython3",
   "version": "3.8.5"
  },
  "pycharm": {
   "stem_cell": {
    "cell_type": "raw",
    "metadata": {
     "collapsed": false
    },
    "source": []
   }
  },
  "toc": {
   "base_numbering": 1,
   "nav_menu": {},
   "number_sections": true,
   "sideBar": true,
   "skip_h1_title": false,
   "title_cell": "Table of Contents",
   "title_sidebar": "Contents",
   "toc_cell": false,
   "toc_position": {},
   "toc_section_display": true,
   "toc_window_display": false
  }
 },
 "nbformat": 4,
 "nbformat_minor": 4
}
