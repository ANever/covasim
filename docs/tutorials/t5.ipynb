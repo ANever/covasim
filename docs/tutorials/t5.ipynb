{
 "cells": [
  {
   "cell_type": "markdown",
   "metadata": {},
   "source": [
    "# T5 - Using interventions\n",
    "\n",
    "Interventions are one of the most critical parts of Covasim. This tutorial shows how to implement standard interventions, as well as how to define your own custom interventions.\n",
    "\n",
    "## Change beta and clip edges\n",
    "\n",
    "The most basic intervention in Covasim is \"change beta\": this changes overall transmission rates on the specified day(s), no questions asked. For example:"
   ]
  },
  {
   "cell_type": "code",
   "execution_count": null,
   "metadata": {},
   "outputs": [],
   "source": [
    "import covasim as cv\n",
    "cv.options.set(dpi=100, show=False, close=True, verbose=0) # Standard options for Jupyter notebook\n",
    "\n",
    "# Define baseline parameters and sim\n",
    "pars = dict(\n",
    "    start_day = '2020-03-01',\n",
    "    end_day   = '2020-06-01',\n",
    "    pop_type      = 'hybrid',\n",
    ")\n",
    "orig_sim = cv.Sim(pars, label='Baseline')\n",
    "\n",
    "# Define sim with change_beta\n",
    "cb = cv.change_beta(days=['2020-04-15', '2020-05-01', '2020-05-15'], changes=[0.2, 1.5, 0.7])\n",
    "sim = cv.Sim(pars, interventions=cb, label='With beta changes')\n",
    "\n",
    "# Run and plot\n",
    "msim = cv.MultiSim([orig_sim, sim])\n",
    "msim.run()\n",
    "msim.plot()"
   ]
  },
  {
   "cell_type": "markdown",
   "metadata": {},
   "source": [
    "A few things to note here:\n",
    "* By default, interventions are shown with vertical dashed lines. You can turn this off by passing `do_plot=False` to the intervention.\n",
    "* bh"
   ]
  },
  {
   "cell_type": "markdown",
   "metadata": {},
   "source": [
    "## Testing functions\n",
    "\n",
    "TBC\n",
    "\n",
    "## Contact tracing\n",
    "\n",
    "TBC\n",
    "\n",
    "## Vaccination and age targeting\n",
    "\n",
    "TBC\n",
    "\n",
    "## Dynamic parameters\n",
    "\n",
    "TBC"
   ]
  },
  {
   "cell_type": "markdown",
   "metadata": {},
   "source": [
    "## Custom interventions\n",
    "\n",
    "We saw in Tutorial 1 how you could define a simple \"protect the elderly\" intervention with just a few lines of code. This example explains how to create an intervention object that does much the same thing, but is more fully-featured because it uses the `Intervention` class."
   ]
  },
  {
   "cell_type": "code",
   "execution_count": null,
   "metadata": {},
   "outputs": [],
   "source": [
    "import numpy as np\n",
    "import pylab as pl\n",
    "import covasim as cv\n",
    "\n",
    "class protect_elderly(cv.Intervention):\n",
    "\n",
    "    def __init__(self, start_day=None, end_day=None, age_cutoff=70, rel_sus=0.0, *args, **kwargs):\n",
    "        super().__init__(**kwargs) # This line must be included\n",
    "        self._store_args() # So must this one\n",
    "        self.start_day   = start_day\n",
    "        self.end_day     = end_day\n",
    "        self.age_cutoff  = age_cutoff\n",
    "        self.rel_sus     = rel_sus\n",
    "        return\n",
    "\n",
    "    def initialize(self, sim):\n",
    "        self.start_day  = sim.day(self.start_day)\n",
    "        self.end_day    = sim.day(self.end_day)\n",
    "        self.days       = [self.start_day, self.end_day]\n",
    "        self.elderly    = sim.people.age > self.age_cutoff # Find the elderly people here\n",
    "        self.exposed    = np.zeros(sim.npts) # Initialize results\n",
    "        self.tvec       = sim.tvec # Copy the time vector into this intervention\n",
    "        return\n",
    "\n",
    "    def apply(self, sim):\n",
    "        self.exposed[sim.t] = sim.people.exposed[self.elderly].sum()\n",
    "\n",
    "        # Start the intervention\n",
    "        if sim.t == self.start_day:\n",
    "            sim.people.rel_sus[self.elderly] = self.rel_sus\n",
    "\n",
    "        # End the intervention\n",
    "        elif sim.t == self.end_day:\n",
    "            sim.people.rel_sus[self.elderly] = 1.0\n",
    "\n",
    "        return\n",
    "\n",
    "    def plot(self):\n",
    "        pl.figure()\n",
    "        pl.plot(self.tvec, self.exposed)\n",
    "        pl.xlabel('Day')\n",
    "        pl.ylabel('Number infected')\n",
    "        pl.title('Number of elderly people with active COVID')\n",
    "        return"
   ]
  },
  {
   "cell_type": "markdown",
   "metadata": {},
   "source": [
    "While this example is fairly long, hopefully it's fairly straightforward:\n",
    "- **`__init__()`** just does what init always does; it's needed to create the class instance. For interentions, it's usually used to store keyword arguments and perform some basic initialization (the first two lines).\n",
    "- **initialize()** is similar to init, with the difference that it's invoked when the *sim* itself is initialized. It receives the sim as an input argument. This means you can use it to do a fairly powerful things. Here, since `sim.people` already exists, we can calculate up-front who the elderly are so we don't have to do it on every timestep.\n",
    "- **apply()** is the crux of the intervention. It's run on every timestep of the model, and also receives `sim` as an input. You almost always use `sim.t` to get the current timestep, here to turn the intervention on and off. But as this example shows, its real power is that it can make direct modifications to the sim itself (`sim.people.rel_sus[self.elderly] = self.rel_sus`). It can also perform calculations and store data in itself, as shown here with `self.exposed` (although in general, analyzers are better for this, since they happen at the end of the timestep, while interventions happen in the middle).\n",
    "- **plot()** is a custom method that shows a plot of the data gathered during the sim. Again, it's usually better to use analyzers for this, but for something simple like this it's fine to double-dip and use an intervention.\n",
    "\n",
    "Here is what this custom intervention looks like in action. Note how it automatically shows when the intervention starts and stops (with vertical dashed lines)."
   ]
  },
  {
   "cell_type": "code",
   "execution_count": null,
   "metadata": {},
   "outputs": [],
   "source": [
    "# Define and run the baseline simulation\n",
    "pars = dict(\n",
    "    pop_size = 50e3,\n",
    "    pop_infected = 100,\n",
    "    n_days = 90,\n",
    "    verbose = 0,\n",
    ")\n",
    "orig_sim = cv.Sim(pars, label='Default')\n",
    "\n",
    "# Define the intervention and the scenario sim\n",
    "protect = protect_elderly(start_day='2020-04-01', end_day='2020-05-01', rel_sus=0.1) # Create intervention\n",
    "sim = cv.Sim(pars, interventions=protect, label='Protect the elderly')\n",
    "\n",
    "# Run and plot\n",
    "msim = cv.MultiSim([orig_sim, sim])\n",
    "msim.run()\n",
    "msim.plot()"
   ]
  },
  {
   "cell_type": "markdown",
   "metadata": {},
   "source": [
    "Because we collected information in the intervention itself, we can also plot that:"
   ]
  },
  {
   "cell_type": "code",
   "execution_count": null,
   "metadata": {},
   "outputs": [],
   "source": [
    "# Plot intervention\n",
    "protect = msim.sims[1].get_intervention(protect_elderly) # Find intervention by type\n",
    "protect.plot()"
   ]
  },
  {
   "cell_type": "code",
   "execution_count": null,
   "metadata": {},
   "outputs": [],
   "source": []
  }
 ],
 "metadata": {
  "kernelspec": {
   "display_name": "Python 3",
   "language": "python",
   "name": "python3"
  },
  "language_info": {
   "codemirror_mode": {
    "name": "ipython",
    "version": 3
   },
   "file_extension": ".py",
   "mimetype": "text/x-python",
   "name": "python",
   "nbconvert_exporter": "python",
   "pygments_lexer": "ipython3",
   "version": "3.8.5"
  },
  "pycharm": {
   "stem_cell": {
    "cell_type": "raw",
    "metadata": {
     "collapsed": false
    },
    "source": []
   }
  },
  "toc": {
   "base_numbering": 1,
   "nav_menu": {},
   "number_sections": true,
   "sideBar": true,
   "skip_h1_title": false,
   "title_cell": "Table of Contents",
   "title_sidebar": "Contents",
   "toc_cell": false,
   "toc_position": {},
   "toc_section_display": true,
   "toc_window_display": false
  }
 },
 "nbformat": 4,
 "nbformat_minor": 4
}
