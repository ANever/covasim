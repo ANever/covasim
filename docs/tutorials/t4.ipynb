{
 "cells": [
  {
   "cell_type": "markdown",
   "metadata": {},
   "source": [
    "# T4 - Working with data\n",
    "\n",
    "Modeling without data is like riding a bicycle while blindfolded – rarely dull, but often you don't get to where you want to go. This tutorial shows how to use data with Covasim.\n",
    "\n",
    "## Demographic data\n",
    "\n",
    "Covasim includes pre-downloaded data on country (and US state) age distributions and household size distributions. As we saw in Tutorial 1, you can load these data simply by using the `location` parameter. You can show a list of all available locations with `cv.data.show_locations()`. The data themselves are simply a set of dictionaries, and thiese can be modified directly; for example, to add a custom age distribution for Johannesburg would look like this:\n",
    "\n",
    "```python\n",
    "# Note data format and key names!\n",
    "joburg_pop = {\n",
    "   '0-9':  286620,\n",
    "  '10-19': 277020,\n",
    "  '20-29': 212889,\n",
    "  '30-39': 161329,\n",
    "  '40-49': 104399,\n",
    "  '50-59': 51716,\n",
    "  '60-69': 36524,\n",
    "  '70-79': 22581,\n",
    "  '80+':   7086}\n",
    "\n",
    "cv.data.country_age_data.data['Johannesburg'] = joburg_pop\n",
    "```\n",
    "\n",
    "You can then use these data via `sim = cv.Sim(location='Johannesburg')`.\n",
    "\n",
    "## Epidemiological data scrapers\n",
    "\n",
    "Covasim includes a script to automatically download time series data on diagnoses, deaths, and other epidemiological information from several major sources of COVID-19 data. These include the [Corona Data Scraper](https://coronadatascraper.com), the [European Centre for Disease Prevention and\n",
    "Control](https://www.ecdc.europa.eu/en/geographical-distribution-2019-ncov-cases), and the [COVID Tracking Project](https://covidtracking.com). These scrapers provide data for a large number of locations (over 4000 at the time of writing), including the US down to the county level and many other countries down to the district level. The data they download is already in the correct format for Covasim.\n",
    "\n",
    "## Data input and formats\n",
    "\n",
    "The correct input data format for Covasim looks like this:"
   ]
  },
  {
   "cell_type": "code",
   "execution_count": null,
   "metadata": {},
   "outputs": [],
   "source": [
    "import pandas as pd\n",
    "df = pd.read_csv('example_data.csv')\n",
    "print(df)"
   ]
  },
  {
   "cell_type": "markdown",
   "metadata": {},
   "source": [
    "The data can be CSV, Excel, or JSON format. There **must** be a column named `date` (not \"Date\" or \"day\" or anything else). Otherwise, each column label must start with `new_` (daily) or `cum_` (cumulative) and then be followed by any of: `tests`, `diagnoses`, `deaths`, `severe` (corresponding to hospitalizations), or `critical` (corresponding to ICU admissions). While other columns can be included and will be loaded, they won't be parsed by Covasim. Note that if you enter a `new_` (daily) column, Covasim will automatically calculate a `cum_` (cumulative) column for you."
   ]
  },
  {
   "cell_type": "markdown",
   "metadata": {},
   "source": [
    "<div class=\"alert alert-info\">\n",
    "    \n",
    "**Note:** Sometimes date information fails to be read properly, especially when loading from Excel files. See Tutorial 8 for help on fixing this.\n",
    "    \n",
    "</div>"
   ]
  },
  {
   "cell_type": "markdown",
   "metadata": {},
   "source": [
    "This example shows how a simulation can load in the data, and how it automatically plots it. (We'll cover interventions properly in the next tutorial.)"
   ]
  },
  {
   "cell_type": "code",
   "execution_count": null,
   "metadata": {},
   "outputs": [],
   "source": [
    "import covasim as cv\n",
    "cv.options.set(dpi=100, show=False, close=True, verbose=0) # Standard options for Jupyter notebook\n",
    "\n",
    "pars = dict(\n",
    "    start_day = '2020-02-01',\n",
    "    end_day   = '2020-04-11',\n",
    "    beta      = 0.015,\n",
    ")\n",
    "sim = cv.Sim(pars=pars, datafile='example_data.csv', interventions=cv.test_num(daily_tests='data'))\n",
    "sim.run()\n",
    "sim.plot(to_plot=['cum_tests', 'cum_diagnoses', 'cum_deaths'])"
   ]
  },
  {
   "cell_type": "markdown",
   "metadata": {},
   "source": [
    "As you can see, this is not a great fit to data – but we'll come to calibration in Tutorial 7."
   ]
  }
 ],
 "metadata": {
  "kernelspec": {
   "display_name": "Python 3",
   "language": "python",
   "name": "python3"
  },
  "language_info": {
   "codemirror_mode": {
    "name": "ipython",
    "version": 3
   },
   "file_extension": ".py",
   "mimetype": "text/x-python",
   "name": "python",
   "nbconvert_exporter": "python",
   "pygments_lexer": "ipython3",
   "version": "3.8.5"
  },
  "pycharm": {
   "stem_cell": {
    "cell_type": "raw",
    "metadata": {
     "collapsed": false
    },
    "source": []
   }
  },
  "toc": {
   "base_numbering": 1,
   "nav_menu": {},
   "number_sections": true,
   "sideBar": true,
   "skip_h1_title": false,
   "title_cell": "Table of Contents",
   "title_sidebar": "Contents",
   "toc_cell": false,
   "toc_position": {},
   "toc_section_display": true,
   "toc_window_display": false
  }
 },
 "nbformat": 4,
 "nbformat_minor": 4
}
